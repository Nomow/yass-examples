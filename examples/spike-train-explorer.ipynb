{
 "cells": [
  {
   "cell_type": "markdown",
   "metadata": {},
   "source": [
    "# Spike train explorer\n",
    "\n",
    "The `SpikeTrainExplorer` contains several functions to explore and plot spike trains and templates."
   ]
  },
  {
   "cell_type": "code",
   "execution_count": null,
   "metadata": {},
   "outputs": [],
   "source": [
    "import yass\n",
    "print('Running on YASS version {}'.format(yass.__version__))"
   ]
  },
  {
   "cell_type": "code",
   "execution_count": null,
   "metadata": {},
   "outputs": [],
   "source": [
    "import os.path as path\n",
    "import matplotlib.pyplot as plt\n",
    "from yass.explore import SpikeTrainExplorer, RecordingExplorer\n",
    "\n",
    "%matplotlib inline\n",
    "plt.rcParams['figure.figsize'] = (10, 10)"
   ]
  },
  {
   "cell_type": "code",
   "execution_count": null,
   "metadata": {},
   "outputs": [],
   "source": [
    "# path to whitened recordings, geometry file and spike train\n",
    "ROOT = path.join(path.expanduser('~'), 'data/yass')\n",
    "path_to_data = path.join(ROOT, 'tmp/whitened.bin')\n",
    "path_to_geom = path.join(ROOT, 'ej49_geometry1.txt')\n",
    "path_to_spike_train = path.join(ROOT, 'middle_spike_train.npy')"
   ]
  },
  {
   "cell_type": "code",
   "execution_count": null,
   "metadata": {},
   "outputs": [],
   "source": [
    "# initialize recordings explorer, this is another helper class\n",
    "# to explore recordings and is needed to initialize the spike\n",
    "# train explorer\n",
    "rce = RecordingExplorer(path_to_data,\n",
    "                        path_to_geom,\n",
    "                        spike_size=15,\n",
    "                        neighbor_radius=70,\n",
    "                        dtype='float64',\n",
    "                        n_channels=49,\n",
    "                        data_format='long')"
   ]
  },
  {
   "cell_type": "code",
   "execution_count": null,
   "metadata": {},
   "outputs": [],
   "source": [
    "# we now initialize the spike train explorer\n",
    "spe = SpikeTrainExplorer(path_to_spike_train, rce)"
   ]
  },
  {
   "cell_type": "code",
   "execution_count": null,
   "metadata": {},
   "outputs": [],
   "source": [
    "# we can take a look at the spike train, first column is the spike\n",
    "# index, second column is the spike ID\n",
    "spe.spike_train"
   ]
  },
  {
   "cell_type": "code",
   "execution_count": null,
   "metadata": {},
   "outputs": [],
   "source": [
    "# plot some templates\n",
    "spe.plot_templates(group_ids=[0, 1, 2, 3, 4, 5])"
   ]
  }
 ],
 "metadata": {
  "kernelspec": {
   "display_name": "Python 2",
   "language": "python",
   "name": "python2"
  },
  "language_info": {
   "codemirror_mode": {
    "name": "ipython",
    "version": 2
   },
   "file_extension": ".py",
   "mimetype": "text/x-python",
   "name": "python",
   "nbconvert_exporter": "python",
   "pygments_lexer": "ipython2",
   "version": "2.7.13"
  }
 },
 "nbformat": 4,
 "nbformat_minor": 2
}
