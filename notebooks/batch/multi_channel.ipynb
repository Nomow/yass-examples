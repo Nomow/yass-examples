{
 "cells": [
  {
   "cell_type": "code",
   "execution_count": 1,
   "metadata": {},
   "outputs": [
    {
     "name": "stderr",
     "output_type": "stream",
     "text": [
      "/Users/Edu/miniconda3/envs/yass/lib/python3.5/importlib/_bootstrap.py:222: RuntimeWarning: compiletime version 3.6 of module 'tensorflow.python.framework.fast_tensor_util' does not match runtime version 3.5\n",
      "  return f(*args, **kwds)\n"
     ]
    }
   ],
   "source": [
    "\"\"\"\n",
    "Splitting large files into batches where every batch has n\n",
    "observations from m channels using BatchProcessor.multi_channel\n",
    "\"\"\"\n",
    "\n",
    "import os\n",
    "from yass.batch import BatchProcessor"
   ]
  },
  {
   "cell_type": "code",
   "execution_count": 2,
   "metadata": {},
   "outputs": [],
   "source": [
    "path_to_neuropixel_data = (os.path.expanduser('~/data/ucl-neuropixel'\n",
    "                           '/rawDataSample.bin'))"
   ]
  },
  {
   "cell_type": "code",
   "execution_count": 3,
   "metadata": {},
   "outputs": [],
   "source": [
    "bp = BatchProcessor(path_to_neuropixel_data,\n",
    "                    dtype='int16', n_channels=385, data_format='wide',\n",
    "                    max_memory='300MB')"
   ]
  },
  {
   "cell_type": "code",
   "execution_count": 4,
   "metadata": {},
   "outputs": [
    {
     "name": "stdout",
     "output_type": "stream",
     "text": [
      "Shape: (408536, 385). Index: (slice(0, 408536, None), slice(0, 385, None))\n",
      "Shape: (408536, 385). Index: (slice(408536, 817072, None), slice(0, 385, None))\n",
      "Shape: (408536, 385). Index: (slice(817072, 1225608, None), slice(0, 385, None))\n",
      "Shape: (408536, 385). Index: (slice(1225608, 1634144, None), slice(0, 385, None))\n",
      "Shape: (165856, 385). Index: (slice(1634144, 1800000, None), slice(0, 385, None))\n"
     ]
    }
   ],
   "source": [
    "# now, let's to some multi_channel operations, here we will\n",
    "# traverse all channels and all observations, each batch will\n",
    "# contain a subset in the temporal dimension, the window size\n",
    "# is determined by max_memory\n",
    "data = bp.multi_channel()\n",
    "\n",
    "for d, _, idx in data:\n",
    "    print('Shape: {}. Index: {}'.format(d.shape, idx))"
   ]
  },
  {
   "cell_type": "code",
   "execution_count": 5,
   "metadata": {
    "scrolled": false
   },
   "outputs": [
    {
     "name": "stdout",
     "output_type": "stream",
     "text": [
      "Shape: (100000, 3). Index: (slice(100000, 200000, None), [0, 1, 2])\n"
     ]
    }
   ],
   "source": [
    "# we can specify the temporal limits and subset channels\n",
    "data = bp.multi_channel(from_time=100000, to_time=200000, channels=[0, 1, 2])\n",
    "\n",
    "for d, _, idx in data:\n",
    "    print('Shape: {}. Index: {}'.format(d.shape, idx))"
   ]
  },
  {
   "cell_type": "code",
   "execution_count": 6,
   "metadata": {},
   "outputs": [
    {
     "name": "stdout",
     "output_type": "stream",
     "text": [
      "Shape: (17086, 3). Local: (slice(10, 17076, None), slice(None, None, None)). Absolute: (slice(0, 17066, None), [0, 1, 2])\n",
      "\n",
      "Shape: (17086, 3). Local: (slice(10, 17076, None), slice(None, None, None)). Absolute: (slice(17066, 34132, None), [0, 1, 2])\n",
      "\n",
      "Shape: (17086, 3). Local: (slice(10, 17076, None), slice(None, None, None)). Absolute: (slice(34132, 51198, None), [0, 1, 2])\n",
      "\n",
      "Shape: (17086, 3). Local: (slice(10, 17076, None), slice(None, None, None)). Absolute: (slice(51198, 68264, None), [0, 1, 2])\n",
      "\n",
      "Shape: (17086, 3). Local: (slice(10, 17076, None), slice(None, None, None)). Absolute: (slice(68264, 85330, None), [0, 1, 2])\n",
      "\n",
      "Shape: (14690, 3). Local: (slice(10, 14680, None), slice(None, None, None)). Absolute: (slice(85330, 100000, None), [0, 1, 2])\n",
      "\n"
     ]
    }
   ],
   "source": [
    "# we can also create a BatchProcessor with a buffer\n",
    "bp2 = BatchProcessor(path_to_neuropixel_data,\n",
    "                     dtype='int16', n_channels=385, data_format='wide',\n",
    "                     max_memory='100KB', buffer_size=10)\n",
    "\n",
    "data = bp2.multi_channel(from_time=0, to_time=100000, channels=[0, 1, 2])\n",
    "\n",
    "for d, idx_local, idx in data:\n",
    "    # d is the batch data (with buffer), d[idx_local] returns the data\n",
    "    # excluding buffer and idx is the absolute location for the\n",
    "    # current batch in the recordings\n",
    "    print('Shape: {}. Local: {}. Absolute: {}\\n'\n",
    "          .format(d.shape, idx_local, idx))"
   ]
  }
 ],
 "metadata": {
  "kernelspec": {
   "display_name": "Python 3",
   "language": "python",
   "name": "python3"
  },
  "language_info": {
   "codemirror_mode": {
    "name": "ipython",
    "version": 3
   },
   "file_extension": ".py",
   "mimetype": "text/x-python",
   "name": "python",
   "nbconvert_exporter": "python",
   "pygments_lexer": "ipython3",
   "version": "3.5.4"
  }
 },
 "nbformat": 4,
 "nbformat_minor": 2
}
