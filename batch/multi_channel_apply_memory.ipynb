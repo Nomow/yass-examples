{
 "cells": [
  {
   "cell_type": "code",
   "execution_count": 5,
   "metadata": {},
   "outputs": [],
   "source": [
    "\"\"\"\n",
    "Applying transformations to large files in batches:\n",
    "\n",
    "BatchProcessor.multi_channel_apply lets you apply transformations to\n",
    "batches of data where every batch has observations from every channel.\n",
    "\n",
    "This example show how to extract information from a large file by\n",
    "processing it in batches.\n",
    "\"\"\"\n",
    "\n",
    "import logging\n",
    "import os\n",
    "\n",
    "import numpy as np\n",
    "import matplotlib.pyplot as plt\n",
    "\n",
    "from yass.batch import BatchProcessor\n",
    "from yass.batch import RecordingsReader"
   ]
  },
  {
   "cell_type": "code",
   "execution_count": 2,
   "metadata": {},
   "outputs": [],
   "source": [
    "# configure logging to get information about the process\n",
    "logging.basicConfig(level=logging.INFO)"
   ]
  },
  {
   "cell_type": "code",
   "execution_count": 3,
   "metadata": {},
   "outputs": [],
   "source": [
    "# raw data file\n",
    "path_to_neuropixel_data = (os.path.expanduser('~/data/ucl-neuropixel'\n",
    "                           '/rawDataSample.bin'))"
   ]
  },
  {
   "cell_type": "code",
   "execution_count": 42,
   "metadata": {},
   "outputs": [],
   "source": [
    "# on each batch, we find the maximum value in every channel\n",
    "def max_in_channel(batch):\n",
    "    \"\"\"Add one to every element in the batch\n",
    "    \"\"\"\n",
    "    return np.max(batch, axis=0)"
   ]
  },
  {
   "cell_type": "code",
   "execution_count": 43,
   "metadata": {},
   "outputs": [
    {
     "name": "stderr",
     "output_type": "stream",
     "text": [
      "INFO:yass.batch.batch:Applying function __main__.max_in_channel...\n",
      "INFO:yass.batch.batch:__main__.max_in_channel took 1.4983038902282715 seconds\n"
     ]
    }
   ],
   "source": [
    "# create batch processor for the data\n",
    "bp = BatchProcessor(path_to_neuropixel_data,\n",
    "                    dtype='int16', n_channels=385, data_format='wide',\n",
    "                    max_memory='10MB')\n",
    "\n",
    "# appply a multi channel transformation, each batch will be a temporal\n",
    "# subset with observations from all selected n_channels, the size\n",
    "# of the subset is calculated depending on max_memory. Results\n",
    "# from every batch are returned in a list\n",
    "res = bp.multi_channel_apply(max_in_channel,\n",
    "                             mode='memory',\n",
    "                             channels='all')"
   ]
  },
  {
   "cell_type": "code",
   "execution_count": 44,
   "metadata": {},
   "outputs": [
    {
     "data": {
      "text/plain": [
       "133"
      ]
     },
     "execution_count": 44,
     "metadata": {},
     "output_type": "execute_result"
    }
   ],
   "source": [
    "# we have 8 batches, so our list contains 8 elements\n",
    "len(res)"
   ]
  },
  {
   "cell_type": "code",
   "execution_count": 45,
   "metadata": {},
   "outputs": [
    {
     "data": {
      "text/plain": [
       "array([ 55,  44,  50,  51,  63,  50,  46,  51,  43,  51,  59,  49,  51,\n",
       "        32,  53,  46,  47,  62,  42,  40,  59,  49,  32,  88,  45,  67,\n",
       "        39,  69,  45,  56,  32,  34,  94,  49,  48,  46,  60,  77,  54,\n",
       "        48,  60,  40,  91,  51,  47,  68,  46, 100,  64,  63,  62,  55,\n",
       "        40,  34,  58,  39,  42,  45,  52,  39,  59,  54,  34,  42,  55,\n",
       "        26,  66,  73,  31,  37,  57,  62,  35,  41,  61,  67,  66,  71,\n",
       "        71,  29,  71,  45,  45,  40,  79,  53,  62,  37,  84,  32,  37,\n",
       "        51,  47,  71,  65,  79,  60,  36,  74,  68,  56,  57,  55,  71,\n",
       "        67,  73,  37,  56,  53,  51,  61,  44,  43,  59, 109,  34,  32,\n",
       "        45,  52,  54,  87,  56,  40,  44,  54,  56,  52,  26,  83,  48,\n",
       "        20,  80,  42,  31,  53,  67,  53,  35,  70,  52,  49,  75,  89,\n",
       "        40,  38,  80,  52,  50,  55,  88,  40,  65,  70,  33,  59,  48,\n",
       "        61,  75,  52,  45,  43,  71,  62,  72,  84,  63,  54, 107,  66,\n",
       "        48,  54,  57,  43,  62,  61,  34,  60,  60,  56,  39,  21,  38,\n",
       "        53,  36,  36,  53,  79,  47,  89,  63,  63,  44,  52,  42,  98,\n",
       "        40,  62,  80,  69,  68,  58,  53,  49,  28,  39,  54,  42,  56,\n",
       "        68,  31,  33,  53,  42,  59,  34,  56,  60,  28,  44,  59,  69,\n",
       "        51,  44,  57,  48,  74,  42,  54,  78,  46, 109,  72,  50,  47,\n",
       "        39,  70,  40,  46,  43,  51,  55,  52,  50,  49,  63,  65,  69,\n",
       "        66,  58,  44,  52,  36,  51,  64,  42,  49,  34,  75,  51,  54,\n",
       "        35,  66,  49,  80,  33,  31,  35,  39,  60,  60,  43,  43,  41,\n",
       "        52,  68, 106,  66,  58,  73,  56,  69,  43,  64,  80,  40,  47,\n",
       "        46,  47,  69,  44,  33,  54,  70,  50,  64,  44,  54,  73,  32,\n",
       "        58,  55,  68,  68,  58,  61,  79,  55,  56,  43,  64,  74,  38,\n",
       "        22,  54,  32,  39,  73,  62,  63,  65,  31,  56,  51,  57,  47,\n",
       "        44,  49,  36,  61,  39,  70,  57,  46,  60,  78,  69,  58,  32,\n",
       "        59,  22,  43,  35,  76, 109,  63,  37,  62,  73,  47,  58,  42,\n",
       "        70,  57,  48,  47,  41,  38,  58,  63,  43,  38, 101,  50,  50,\n",
       "        71,  73,  99,  41,  51,  59,  63,  61,  51,  74, 108,  68,  73,\n",
       "        48,  52,  35, 114,  46,  37,  57,  40], dtype=int16)"
      ]
     },
     "execution_count": 45,
     "metadata": {},
     "output_type": "execute_result"
    }
   ],
   "source": [
    "# output for the first batch\n",
    "res[0]"
   ]
  },
  {
   "cell_type": "code",
   "execution_count": 46,
   "metadata": {},
   "outputs": [],
   "source": [
    "# stack results from every batch\n",
    "arr = np.stack(res, axis=0)"
   ]
  },
  {
   "cell_type": "code",
   "execution_count": 47,
   "metadata": {},
   "outputs": [
    {
     "data": {
      "text/plain": [
       "array([137, 119,  99, 120, 107,  95,  85,  97, 124,  97,  96,  83, 126,\n",
       "        96,  93, 114, 115, 122, 101, 109, 117, 120,  99,  95, 105,  99,\n",
       "       101, 100,  79, 108,  86,  91, 121,  91, 104, 116, 117, 128, 100,\n",
       "        96, 106, 110,  94,  98,  86,  80, 113, 110, 108, 110, 100, 112,\n",
       "        95, 109,  80,  89,  98, 123, 112, 113, 149, 101,  92, 107, 120,\n",
       "        94,  91, 103, 112,  91, 100, 109, 101, 113, 130, 104, 118,  92,\n",
       "        87, 101,  94, 113,  94,  97, 109, 105, 112,  95, 112,  88, 115,\n",
       "       105, 125, 138, 120, 128,  95, 113,  98, 154, 108, 100, 102, 112,\n",
       "       101, 144, 125, 104, 107, 117, 104,  91,  97,  89, 109, 103,  97,\n",
       "       105,  94, 112, 110,  98, 135, 111, 127,  91,  95, 116, 108, 113,\n",
       "       128, 111, 109, 105,  88, 110,  97, 101, 125, 116, 124, 102, 109,\n",
       "       147, 106,  97, 107, 120, 122, 104, 103, 113, 103, 106, 117, 106,\n",
       "        97, 142, 110, 109, 110, 104,  94, 115, 119, 120, 125, 121, 109,\n",
       "       119, 108,  99, 101, 111, 100, 121, 100, 107,  95,  68, 148, 115,\n",
       "        96, 120, 158, 111, 104, 105, 111, 100, 111, 101, 107, 101,  99,\n",
       "        94, 109, 114, 124, 145, 102,  94, 100,  78,  86,  96,  99, 101,\n",
       "       105, 104, 118,  83, 102, 106,  82,  90, 101,  99, 100, 127, 126,\n",
       "       103,  88, 121, 105, 113,  97,  91, 114, 112, 126, 129,  96, 107,\n",
       "       118,  87, 113, 105,  91, 102, 109, 111, 126, 108, 109,  84, 110,\n",
       "        99,  86,  91, 141, 121,  93,  96, 111, 101, 110, 116, 111, 113,\n",
       "       101,  91, 120,  96,  97,  93, 104,  92,  84, 111,  96,  93, 126,\n",
       "       112, 126, 108, 100,  96, 106, 112, 115, 105, 113,  99,  86,  95,\n",
       "        91, 108, 105, 114, 114, 108, 127, 103,  96,  88, 127,  98, 102,\n",
       "       105, 104, 109, 101, 118,  97, 111,  87, 109, 102, 100,  93, 104,\n",
       "       131, 134,  84, 113, 104, 122, 110, 156, 111, 101,  87, 101, 137,\n",
       "        95, 152,  91,  94, 110,  99,  99,  93, 103,  93,  87,  96,  94,\n",
       "        93, 117, 125, 110, 116, 115, 130, 111, 121, 129, 123, 105,  94,\n",
       "       103,  79,  90, 118, 110, 118, 106, 113, 129, 105, 107, 124, 113,\n",
       "        97, 116, 104, 104, 123,  98, 136, 117, 119, 105, 114, 125, 114,\n",
       "       109,  98,  91, 123, 128, 104,  83,  86], dtype=int16)"
      ]
     },
     "execution_count": 47,
     "metadata": {},
     "output_type": "execute_result"
    }
   ],
   "source": [
    "# let's find the maximum value along every channel in all the dataset\n",
    "np.max(arr, axis=0)"
   ]
  }
 ],
 "metadata": {
  "kernelspec": {
   "display_name": "Python 3",
   "language": "python",
   "name": "python3"
  },
  "language_info": {
   "codemirror_mode": {
    "name": "ipython",
    "version": 3
   },
   "file_extension": ".py",
   "mimetype": "text/x-python",
   "name": "python",
   "nbconvert_exporter": "python",
   "pygments_lexer": "ipython3",
   "version": "3.5.4"
  }
 },
 "nbformat": 4,
 "nbformat_minor": 2
}
