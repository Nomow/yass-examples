{
 "cells": [
  {
   "cell_type": "code",
   "execution_count": 1,
   "metadata": {},
   "outputs": [
    {
     "name": "stderr",
     "output_type": "stream",
     "text": [
      "/Users/Edu/miniconda3/envs/yass/lib/python3.5/importlib/_bootstrap.py:222: RuntimeWarning: compiletime version 3.6 of module 'tensorflow.python.framework.fast_tensor_util' does not match runtime version 3.5\n",
      "  return f(*args, **kwds)\n"
     ]
    }
   ],
   "source": [
    "\"\"\"\n",
    "Applying transformations to large files in batches:\n",
    "\n",
    "BatchProcessor.multi_channel_apply lets you apply transformations to\n",
    "batches of data where every batch has observations from every channel.\n",
    "\n",
    "This example show how to extract information from a large file by\n",
    "processing it in batches.\n",
    "\"\"\"\n",
    "\n",
    "import logging\n",
    "import os\n",
    "\n",
    "import numpy as np\n",
    "\n",
    "from yass.batch import BatchProcessor"
   ]
  },
  {
   "cell_type": "code",
   "execution_count": 2,
   "metadata": {},
   "outputs": [],
   "source": [
    "# configure logging to get information about the process\n",
    "logging.basicConfig(level=logging.INFO)"
   ]
  },
  {
   "cell_type": "code",
   "execution_count": 3,
   "metadata": {},
   "outputs": [],
   "source": [
    "# raw data file\n",
    "path_to_neuropixel_data = (os.path.expanduser('~/data/ucl-neuropixel'\n",
    "                           '/rawDataSample.bin'))"
   ]
  },
  {
   "cell_type": "code",
   "execution_count": 4,
   "metadata": {},
   "outputs": [],
   "source": [
    "# on each batch, we find the maximum value in every channel\n",
    "def max_in_channel(batch):\n",
    "    \"\"\"Add one to every element in the batch\n",
    "    \"\"\"\n",
    "    return np.max(batch, axis=0)"
   ]
  },
  {
   "cell_type": "code",
   "execution_count": 5,
   "metadata": {},
   "outputs": [
    {
     "name": "stderr",
     "output_type": "stream",
     "text": [
      "INFO:yass.batch.batch:Applying function __main__.max_in_channel...\n",
      "INFO:yass.batch.batch:__main__.max_in_channel took 0.019220829010009766 seconds\n"
     ]
    }
   ],
   "source": [
    "# create batch processor for the data\n",
    "bp = BatchProcessor(path_to_neuropixel_data,\n",
    "                    dtype='int16', n_channels=385, data_format='wide',\n",
    "                    max_memory='10MB')\n",
    "\n",
    "# appply a multi channel transformation, each batch will be a temporal\n",
    "# subset with observations from all selected n_channels, the size\n",
    "# of the subset is calculated depending on max_memory. Results\n",
    "# from every batch are returned in a list\n",
    "res = bp.multi_channel_apply(max_in_channel,\n",
    "                             mode='memory',\n",
    "                             channels=[0, 1, 2])"
   ]
  },
  {
   "cell_type": "code",
   "execution_count": 6,
   "metadata": {},
   "outputs": [
    {
     "data": {
      "text/plain": [
       "2"
      ]
     },
     "execution_count": 6,
     "metadata": {},
     "output_type": "execute_result"
    }
   ],
   "source": [
    "# we have one element per batch\n",
    "len(res)"
   ]
  },
  {
   "cell_type": "code",
   "execution_count": 7,
   "metadata": {},
   "outputs": [
    {
     "data": {
      "text/plain": [
       "array([137, 119,  99], dtype=int16)"
      ]
     },
     "execution_count": 7,
     "metadata": {},
     "output_type": "execute_result"
    }
   ],
   "source": [
    "# output for the first batch\n",
    "res[0]"
   ]
  },
  {
   "cell_type": "code",
   "execution_count": 8,
   "metadata": {},
   "outputs": [],
   "source": [
    "# stack results from every batch\n",
    "arr = np.stack(res, axis=0)"
   ]
  },
  {
   "cell_type": "code",
   "execution_count": 9,
   "metadata": {},
   "outputs": [
    {
     "data": {
      "text/plain": [
       "array([137, 119,  99], dtype=int16)"
      ]
     },
     "execution_count": 9,
     "metadata": {},
     "output_type": "execute_result"
    }
   ],
   "source": [
    "# let's find the maximum value along every channel in all the dataset\n",
    "np.max(arr, axis=0)"
   ]
  }
 ],
 "metadata": {
  "kernelspec": {
   "display_name": "Python 3",
   "language": "python",
   "name": "python3"
  },
  "language_info": {
   "codemirror_mode": {
    "name": "ipython",
    "version": 3
   },
   "file_extension": ".py",
   "mimetype": "text/x-python",
   "name": "python",
   "nbconvert_exporter": "python",
   "pygments_lexer": "ipython3",
   "version": "3.5.4"
  }
 },
 "nbformat": 4,
 "nbformat_minor": 2
}
