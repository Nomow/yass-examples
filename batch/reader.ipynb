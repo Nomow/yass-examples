{
 "cells": [
  {
   "cell_type": "code",
   "execution_count": 1,
   "metadata": {},
   "outputs": [
    {
     "name": "stderr",
     "output_type": "stream",
     "text": [
      "/Users/Edu/miniconda3/envs/yass/lib/python3.5/importlib/_bootstrap.py:222: RuntimeWarning: compiletime version 3.6 of module 'tensorflow.python.framework.fast_tensor_util' does not match runtime version 3.5\n",
      "  return f(*args, **kwds)\n"
     ]
    }
   ],
   "source": [
    "\"\"\"\n",
    "Reading large files with RecordingsReader\n",
    "\"\"\"\n",
    "\n",
    "import os\n",
    "\n",
    "import numpy as np\n",
    "from yass.batch import RecordingsReader"
   ]
  },
  {
   "cell_type": "code",
   "execution_count": 2,
   "metadata": {},
   "outputs": [],
   "source": [
    "# generate data\n",
    "output_folder = os.path.join(os.path.expanduser('~'), 'data/yass')\n",
    "wide_data = np.random.rand(50, 100000)\n",
    "long_data = wide_data.T\n",
    "\n",
    "path_to_wide = os.path.join(output_folder, 'wide.bin')\n",
    "path_to_long = os.path.join(output_folder, 'long.bin')\n",
    "\n",
    "wide_data.tofile(path_to_wide)\n",
    "long_data.tofile(path_to_long)"
   ]
  },
  {
   "cell_type": "code",
   "execution_count": 3,
   "metadata": {},
   "outputs": [],
   "source": [
    "# load the files using the readers, they are agnostic on the data shape\n",
    "# and will behave exactly the same\n",
    "reader_wide = RecordingsReader(path_to_wide, dtype='float64',\n",
    "                               n_channels=50, data_format='wide')\n",
    "\n",
    "reader_long = RecordingsReader(path_to_long, dtype='float64',\n",
    "                               n_channels=50, data_format='long')"
   ]
  },
  {
   "cell_type": "code",
   "execution_count": 4,
   "metadata": {},
   "outputs": [
    {
     "data": {
      "text/plain": [
       "((100000, 50), (100000, 50))"
      ]
     },
     "execution_count": 4,
     "metadata": {},
     "output_type": "execute_result"
    }
   ],
   "source": [
    "reader_wide.shape, reader_long.shape"
   ]
  },
  {
   "cell_type": "code",
   "execution_count": 5,
   "metadata": {},
   "outputs": [
    {
     "data": {
      "text/plain": [
       "(memmap([[0.33087378, 0.6257369 , 0.93982186, ..., 0.66411153, 0.66622909,\n",
       "          0.11791677],\n",
       "         [0.10293834, 0.71706807, 0.70002019, ..., 0.06477325, 0.04261421,\n",
       "          0.23365831],\n",
       "         [0.98881172, 0.41733017, 0.01087625, ..., 0.54073329, 0.91387451,\n",
       "          0.96357125],\n",
       "         ...,\n",
       "         [0.12138269, 0.43847779, 0.70093491, ..., 0.05265536, 0.02314241,\n",
       "          0.47184963],\n",
       "         [0.43919656, 0.22288424, 0.02227211, ..., 0.33424442, 0.94307804,\n",
       "          0.85507519],\n",
       "         [0.81907773, 0.98031487, 0.28565924, ..., 0.69860181, 0.46175649,\n",
       "          0.54677986]]), (10000, 10))"
      ]
     },
     "execution_count": 5,
     "metadata": {},
     "output_type": "execute_result"
    }
   ],
   "source": [
    "# first index is for observations and second index for channels\n",
    "obs = reader_wide[10000:20000, 20:30]\n",
    "obs, obs.shape"
   ]
  },
  {
   "cell_type": "code",
   "execution_count": 6,
   "metadata": {},
   "outputs": [
    {
     "data": {
      "text/plain": [
       "(memmap([[0.33087378, 0.6257369 , 0.93982186, ..., 0.66411153, 0.66622909,\n",
       "          0.11791677],\n",
       "         [0.10293834, 0.71706807, 0.70002019, ..., 0.06477325, 0.04261421,\n",
       "          0.23365831],\n",
       "         [0.98881172, 0.41733017, 0.01087625, ..., 0.54073329, 0.91387451,\n",
       "          0.96357125],\n",
       "         ...,\n",
       "         [0.12138269, 0.43847779, 0.70093491, ..., 0.05265536, 0.02314241,\n",
       "          0.47184963],\n",
       "         [0.43919656, 0.22288424, 0.02227211, ..., 0.33424442, 0.94307804,\n",
       "          0.85507519],\n",
       "         [0.81907773, 0.98031487, 0.28565924, ..., 0.69860181, 0.46175649,\n",
       "          0.54677986]]), (10000, 10))"
      ]
     },
     "execution_count": 6,
     "metadata": {},
     "output_type": "execute_result"
    }
   ],
   "source": [
    "# same applies even if your data is in 'wide' shape, first index for\n",
    "# observations, second for channels, the output is converted to 'long'\n",
    "# by default but you can change it\n",
    "obs = reader_long[10000:20000, 20:30]\n",
    "obs, obs.shape"
   ]
  }
 ],
 "metadata": {
  "kernelspec": {
   "display_name": "Python 3",
   "language": "python",
   "name": "python3"
  },
  "language_info": {
   "codemirror_mode": {
    "name": "ipython",
    "version": 3
   },
   "file_extension": ".py",
   "mimetype": "text/x-python",
   "name": "python",
   "nbconvert_exporter": "python",
   "pygments_lexer": "ipython3",
   "version": "3.5.4"
  }
 },
 "nbformat": 4,
 "nbformat_minor": 2
}
